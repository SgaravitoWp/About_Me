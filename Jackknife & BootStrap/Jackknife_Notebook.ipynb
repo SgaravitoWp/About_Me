{
 "cells": [
  {
   "cell_type": "markdown",
   "id": "8def4301",
   "metadata": {},
   "source": [
    "# Jackknife Notebook\n",
    "En el siguiente notebook podrá encontrar la implementación de la técnica de Jackknife para el caso de uso de \"*Ocupación de UCI*\". "
   ]
  },
  {
   "cell_type": "markdown",
   "id": "6de7b167",
   "metadata": {},
   "source": [
    "**Enunciado:** Dados los datos de ocupación de camas UCI proporcionados por la Secretaría Distrital de Salud en el archivo *“UCI.csv”*, encontrar una estimación insesgada puntual y de intervalo del parámetro de la media muestral.\n",
    "\n",
    "**Solución:** Primeramente, es necesario importar los datos desde el CSV y leerlos por medio de un DataFrame. "
   ]
  },
  {
   "cell_type": "code",
   "execution_count": 36,
   "id": "30fc9517",
   "metadata": {},
   "outputs": [
    {
     "data": {
      "text/html": [
       "<div>\n",
       "<style scoped>\n",
       "    .dataframe tbody tr th:only-of-type {\n",
       "        vertical-align: middle;\n",
       "    }\n",
       "\n",
       "    .dataframe tbody tr th {\n",
       "        vertical-align: top;\n",
       "    }\n",
       "\n",
       "    .dataframe thead th {\n",
       "        text-align: right;\n",
       "    }\n",
       "</style>\n",
       "<table border=\"1\" class=\"dataframe\">\n",
       "  <thead>\n",
       "    <tr style=\"text-align: right;\">\n",
       "      <th></th>\n",
       "      <th>Fecha</th>\n",
       "      <th>Camas UCI ocupadas Covid-19</th>\n",
       "      <th>Total camas UCI COVID 19 reportadas por IPS</th>\n",
       "      <th>Ocupación UCI COVID 19</th>\n",
       "    </tr>\n",
       "  </thead>\n",
       "  <tbody>\n",
       "    <tr>\n",
       "      <th>0</th>\n",
       "      <td>8/04/2020</td>\n",
       "      <td>106</td>\n",
       "      <td>543</td>\n",
       "      <td>19,50%</td>\n",
       "    </tr>\n",
       "    <tr>\n",
       "      <th>1</th>\n",
       "      <td>9/04/2020</td>\n",
       "      <td>136</td>\n",
       "      <td>608</td>\n",
       "      <td>22,40%</td>\n",
       "    </tr>\n",
       "    <tr>\n",
       "      <th>2</th>\n",
       "      <td>10/04/2020</td>\n",
       "      <td>150</td>\n",
       "      <td>596</td>\n",
       "      <td>25,20%</td>\n",
       "    </tr>\n",
       "    <tr>\n",
       "      <th>3</th>\n",
       "      <td>11/04/2020</td>\n",
       "      <td>148</td>\n",
       "      <td>597</td>\n",
       "      <td>24,80%</td>\n",
       "    </tr>\n",
       "    <tr>\n",
       "      <th>4</th>\n",
       "      <td>12/04/2020</td>\n",
       "      <td>178</td>\n",
       "      <td>576</td>\n",
       "      <td>30,90%</td>\n",
       "    </tr>\n",
       "    <tr>\n",
       "      <th>...</th>\n",
       "      <td>...</td>\n",
       "      <td>...</td>\n",
       "      <td>...</td>\n",
       "      <td>...</td>\n",
       "    </tr>\n",
       "    <tr>\n",
       "      <th>755</th>\n",
       "      <td>19/05/2022</td>\n",
       "      <td>177</td>\n",
       "      <td>461</td>\n",
       "      <td>38,39%</td>\n",
       "    </tr>\n",
       "    <tr>\n",
       "      <th>756</th>\n",
       "      <td>26/05/2022</td>\n",
       "      <td>167</td>\n",
       "      <td>379</td>\n",
       "      <td>44,06%</td>\n",
       "    </tr>\n",
       "    <tr>\n",
       "      <th>757</th>\n",
       "      <td>2/06/2022</td>\n",
       "      <td>180</td>\n",
       "      <td>379</td>\n",
       "      <td>47,49%</td>\n",
       "    </tr>\n",
       "    <tr>\n",
       "      <th>758</th>\n",
       "      <td>9/06/2022</td>\n",
       "      <td>201</td>\n",
       "      <td>374</td>\n",
       "      <td>53,74%</td>\n",
       "    </tr>\n",
       "    <tr>\n",
       "      <th>759</th>\n",
       "      <td>16/06/2022</td>\n",
       "      <td>200</td>\n",
       "      <td>370</td>\n",
       "      <td>54,05%</td>\n",
       "    </tr>\n",
       "  </tbody>\n",
       "</table>\n",
       "<p>760 rows × 4 columns</p>\n",
       "</div>"
      ],
      "text/plain": [
       "          Fecha Camas UCI ocupadas Covid-19  \\\n",
       "0     8/04/2020                         106   \n",
       "1     9/04/2020                         136   \n",
       "2    10/04/2020                         150   \n",
       "3    11/04/2020                         148   \n",
       "4    12/04/2020                         178   \n",
       "..          ...                         ...   \n",
       "755  19/05/2022                         177   \n",
       "756  26/05/2022                         167   \n",
       "757   2/06/2022                         180   \n",
       "758   9/06/2022                         201   \n",
       "759  16/06/2022                         200   \n",
       "\n",
       "    Total camas UCI COVID 19 reportadas por IPS Ocupación UCI COVID 19  \n",
       "0                                           543                 19,50%  \n",
       "1                                           608                 22,40%  \n",
       "2                                           596                 25,20%  \n",
       "3                                           597                 24,80%  \n",
       "4                                           576                 30,90%  \n",
       "..                                          ...                    ...  \n",
       "755                                         461                 38,39%  \n",
       "756                                         379                 44,06%  \n",
       "757                                         379                 47,49%  \n",
       "758                                         374                 53,74%  \n",
       "759                                         370                 54,05%  \n",
       "\n",
       "[760 rows x 4 columns]"
      ]
     },
     "execution_count": 36,
     "metadata": {},
     "output_type": "execute_result"
    }
   ],
   "source": [
    "import matplotlib.pyplot as plt\n",
    "import pandas as pd\n",
    "import numpy as np \n",
    "import scipy.stats\n",
    "\n",
    "df = pd.read_csv(\"UCI.csv\", on_bad_lines=\"skip\", encoding='latin-1', delimiter=\";\", decimal=\",\")\n",
    "df"
   ]
  },
  {
   "cell_type": "markdown",
   "id": "f82611b3",
   "metadata": {},
   "source": [
    "El DataFrame cuenta con 760 datos. La columna de interés es *Camas UCI ocupadas Covid - 19*. "
   ]
  },
  {
   "cell_type": "markdown",
   "id": "4e9faf3d",
   "metadata": {},
   "source": [
    "Posteriormente, se procederá a la limpieza de datos para la posterior implemetación de la técnica de *Jackknife*. "
   ]
  },
  {
   "cell_type": "code",
   "execution_count": 37,
   "id": "f2f26146",
   "metadata": {},
   "outputs": [],
   "source": [
    "df.columns = [0,1,2,3]\n",
    "df[1] = df[1].apply(lambda x: int(x.replace(\".\",\"\")))\n",
    "df[2] = df[2].apply(lambda x: int(x.replace(\".\",\"\")))"
   ]
  },
  {
   "cell_type": "markdown",
   "id": "11090e47",
   "metadata": {},
   "source": [
    "Como adición se mostrará el comportamiento de los datos a lo largo del tiempo gráficamente para lograr una mejor comprensión del suceso."
   ]
  },
  {
   "cell_type": "code",
   "execution_count": 38,
   "id": "c913a30b",
   "metadata": {},
   "outputs": [
    {
     "data": {
      "image/png": "[encoded data removed]",
      "text/plain": [
       "<Figure size 1080x720 with 1 Axes>"
      ]
     },
     "metadata": {
      "needs_background": "light"
     },
     "output_type": "display_data"
    }
   ],
   "source": [
    "plt.figure(figsize=(15,10))\n",
    "plt.plot(range(0,760) ,df[1], color=\"red\")\n",
    "plt.plot(range(0,760) ,df[2], color=\"blue\")\n",
    "plt.legend([\"Camas UCI ocupadas Covid - 19\", \"Total camas UCI COVID 19 reportadas por IPS\"])\n",
    "plt.grid()\n",
    "plt.show()"
   ]
  },
  {
   "cell_type": "markdown",
   "id": "c20852ad",
   "metadata": {},
   "source": [
    "Ya realizada esta introducción, se procederá a implementar el método de *Jackniffe*. De primera mano, se encontrarán los\n",
    "*estadísticos de Jackniffe*. "
   ]
  },
  {
   "cell_type": "code",
   "execution_count": 39,
   "id": "c5c16c00",
   "metadata": {},
   "outputs": [
    {
     "data": {
      "text/html": [
       "<div>\n",
       "<style scoped>\n",
       "    .dataframe tbody tr th:only-of-type {\n",
       "        vertical-align: middle;\n",
       "    }\n",
       "\n",
       "    .dataframe tbody tr th {\n",
       "        vertical-align: top;\n",
       "    }\n",
       "\n",
       "    .dataframe thead th {\n",
       "        text-align: right;\n",
       "    }\n",
       "</style>\n",
       "<table border=\"1\" class=\"dataframe\">\n",
       "  <thead>\n",
       "    <tr style=\"text-align: right;\">\n",
       "      <th></th>\n",
       "      <th>t_n-1,i</th>\n",
       "    </tr>\n",
       "  </thead>\n",
       "  <tbody>\n",
       "    <tr>\n",
       "      <th>0</th>\n",
       "      <td>865.725955</td>\n",
       "    </tr>\n",
       "    <tr>\n",
       "      <th>1</th>\n",
       "      <td>865.686430</td>\n",
       "    </tr>\n",
       "    <tr>\n",
       "      <th>2</th>\n",
       "      <td>865.667984</td>\n",
       "    </tr>\n",
       "    <tr>\n",
       "      <th>3</th>\n",
       "      <td>865.670619</td>\n",
       "    </tr>\n",
       "    <tr>\n",
       "      <th>4</th>\n",
       "      <td>865.631094</td>\n",
       "    </tr>\n",
       "    <tr>\n",
       "      <th>...</th>\n",
       "      <td>...</td>\n",
       "    </tr>\n",
       "    <tr>\n",
       "      <th>755</th>\n",
       "      <td>865.632411</td>\n",
       "    </tr>\n",
       "    <tr>\n",
       "      <th>756</th>\n",
       "      <td>865.645586</td>\n",
       "    </tr>\n",
       "    <tr>\n",
       "      <th>757</th>\n",
       "      <td>865.628458</td>\n",
       "    </tr>\n",
       "    <tr>\n",
       "      <th>758</th>\n",
       "      <td>865.600791</td>\n",
       "    </tr>\n",
       "    <tr>\n",
       "      <th>759</th>\n",
       "      <td>865.602108</td>\n",
       "    </tr>\n",
       "  </tbody>\n",
       "</table>\n",
       "<p>760 rows × 1 columns</p>\n",
       "</div>"
      ],
      "text/plain": [
       "        t_n-1,i\n",
       "0    865.725955\n",
       "1    865.686430\n",
       "2    865.667984\n",
       "3    865.670619\n",
       "4    865.631094\n",
       "..          ...\n",
       "755  865.632411\n",
       "756  865.645586\n",
       "757  865.628458\n",
       "758  865.600791\n",
       "759  865.602108\n",
       "\n",
       "[760 rows x 1 columns]"
      ]
     },
     "execution_count": 39,
     "metadata": {},
     "output_type": "execute_result"
    }
   ],
   "source": [
    "t_i = list()\n",
    "for i in range(0, df.shape[0]):\n",
    "    suma = df[1].sum() - df[1][i]\n",
    "    t_i.append(suma/(df.shape[0]-1))\n",
    "df_1 = pd.DataFrame(t_i)\n",
    "df_1.rename(columns={0:\"t_n-1,i\"}, inplace=True)\n",
    "df_1"
   ]
  },
  {
   "cell_type": "markdown",
   "id": "80fd5fa7",
   "metadata": {},
   "source": [
    "Una vez realizado este paso, únicamente hace falta aplicar la fórmula para encontrar la *estimación de Jackknife*.  "
   ]
  },
  {
   "cell_type": "code",
   "execution_count": 40,
   "id": "e1b0de8c",
   "metadata": {},
   "outputs": [
    {
     "name": "stdout",
     "output_type": "stream",
     "text": [
      "La estimación de Jackknife del parámetro es: 864.7263157891575\n"
     ]
    }
   ],
   "source": [
    "n = df.shape[0]\n",
    "print(f\"La estimación de Jackknife del parámetro es: {df[1].mean()*n - df_1['t_n-1,i'].mean()*(n-1)}\")"
   ]
  },
  {
   "cell_type": "markdown",
   "id": "287462a3",
   "metadata": {},
   "source": [
    "Se ha obtenido una estimación **PUNTUAL**, ahora se estudiará su sesgo. Asi, aplicando la fórmula para el sesgo:"
   ]
  },
  {
   "cell_type": "code",
   "execution_count": 41,
   "id": "76e4bebf",
   "metadata": {},
   "outputs": [
    {
     "name": "stdout",
     "output_type": "stream",
     "text": [
      "La estimación de Jackknife del sesgo es: 3.4924596548080444e-10\n"
     ]
    }
   ],
   "source": [
    "print(f\"La estimación de Jackknife del sesgo es: {(n-1)*df_1['t_n-1,i'].mean() - (n-1)*df[1].mean()}\")"
   ]
  },
  {
   "cell_type": "markdown",
   "id": "ae54fb6d",
   "metadata": {},
   "source": [
    "Visto lo anterior, es claro que se ha obtenido estimador con un sesgo muy bajo que sera muy util de caso de realizar estudios relacionados con esta medida de la media. Si se realiza un contraste entre estimador de la media y la media muestral, observe que:"
   ]
  },
  {
   "cell_type": "code",
   "execution_count": 42,
   "id": "870cf43e",
   "metadata": {},
   "outputs": [
    {
     "name": "stdout",
     "output_type": "stream",
     "text": [
      "El error es de: 3.4924596548080444e-10\n"
     ]
    }
   ],
   "source": [
    "print(f\"El error es de: {df[1].mean() - df[1].mean()*n + df_1['t_n-1,i'].mean()*(n-1)}\")"
   ]
  },
  {
   "cell_type": "markdown",
   "id": "354b262a",
   "metadata": {},
   "source": [
    "Una cantidad de orden $10^{-10}$ muy pequeña, casi despreciable. "
   ]
  },
  {
   "cell_type": "markdown",
   "id": "c560027d",
   "metadata": {},
   "source": [
    "Ahora, se encontrará una estimación por intervalo del parámetro. Para esto es  necesario los *pseudo-valores de Jackknife* por ende, \n"
   ]
  },
  {
   "cell_type": "code",
   "execution_count": 43,
   "id": "b43f17ce",
   "metadata": {},
   "outputs": [
    {
     "data": {
      "text/html": [
       "<div>\n",
       "<style scoped>\n",
       "    .dataframe tbody tr th:only-of-type {\n",
       "        vertical-align: middle;\n",
       "    }\n",
       "\n",
       "    .dataframe tbody tr th {\n",
       "        vertical-align: top;\n",
       "    }\n",
       "\n",
       "    .dataframe thead th {\n",
       "        text-align: right;\n",
       "    }\n",
       "</style>\n",
       "<table border=\"1\" class=\"dataframe\">\n",
       "  <thead>\n",
       "    <tr style=\"text-align: right;\">\n",
       "      <th></th>\n",
       "      <th>t_n-1,i</th>\n",
       "      <th>j_n,i</th>\n",
       "    </tr>\n",
       "  </thead>\n",
       "  <tbody>\n",
       "    <tr>\n",
       "      <th>0</th>\n",
       "      <td>865.725955</td>\n",
       "      <td>106.0</td>\n",
       "    </tr>\n",
       "    <tr>\n",
       "      <th>1</th>\n",
       "      <td>865.686430</td>\n",
       "      <td>136.0</td>\n",
       "    </tr>\n",
       "    <tr>\n",
       "      <th>2</th>\n",
       "      <td>865.667984</td>\n",
       "      <td>150.0</td>\n",
       "    </tr>\n",
       "    <tr>\n",
       "      <th>3</th>\n",
       "      <td>865.670619</td>\n",
       "      <td>148.0</td>\n",
       "    </tr>\n",
       "    <tr>\n",
       "      <th>4</th>\n",
       "      <td>865.631094</td>\n",
       "      <td>178.0</td>\n",
       "    </tr>\n",
       "    <tr>\n",
       "      <th>...</th>\n",
       "      <td>...</td>\n",
       "      <td>...</td>\n",
       "    </tr>\n",
       "    <tr>\n",
       "      <th>755</th>\n",
       "      <td>865.632411</td>\n",
       "      <td>177.0</td>\n",
       "    </tr>\n",
       "    <tr>\n",
       "      <th>756</th>\n",
       "      <td>865.645586</td>\n",
       "      <td>167.0</td>\n",
       "    </tr>\n",
       "    <tr>\n",
       "      <th>757</th>\n",
       "      <td>865.628458</td>\n",
       "      <td>180.0</td>\n",
       "    </tr>\n",
       "    <tr>\n",
       "      <th>758</th>\n",
       "      <td>865.600791</td>\n",
       "      <td>201.0</td>\n",
       "    </tr>\n",
       "    <tr>\n",
       "      <th>759</th>\n",
       "      <td>865.602108</td>\n",
       "      <td>200.0</td>\n",
       "    </tr>\n",
       "  </tbody>\n",
       "</table>\n",
       "<p>760 rows × 2 columns</p>\n",
       "</div>"
      ],
      "text/plain": [
       "        t_n-1,i  j_n,i\n",
       "0    865.725955  106.0\n",
       "1    865.686430  136.0\n",
       "2    865.667984  150.0\n",
       "3    865.670619  148.0\n",
       "4    865.631094  178.0\n",
       "..          ...    ...\n",
       "755  865.632411  177.0\n",
       "756  865.645586  167.0\n",
       "757  865.628458  180.0\n",
       "758  865.600791  201.0\n",
       "759  865.602108  200.0\n",
       "\n",
       "[760 rows x 2 columns]"
      ]
     },
     "execution_count": 43,
     "metadata": {},
     "output_type": "execute_result"
    }
   ],
   "source": [
    "j_i = list()\n",
    "for i in range(0, df.shape[0]):\n",
    "    j_i.append(df[1].sum() - (n-1)*df_1['t_n-1,i'][i])\n",
    "df_1[\"j_n,i\"] = j_i\n",
    "df_1"
   ]
  },
  {
   "cell_type": "code",
   "execution_count": 47,
   "id": "3338cf58",
   "metadata": {},
   "outputs": [
    {
     "name": "stdout",
     "output_type": "stream",
     "text": [
      "El estimador de varianza de Jackknife es: 376881.25833159947\n"
     ]
    }
   ],
   "source": [
    "print(f\"El estimador de varianza de Jackknife es: {df_1['j_n,i'].var()}\")"
   ]
  },
  {
   "cell_type": "markdown",
   "id": "7750352a",
   "metadata": {},
   "source": [
    "De esta mánera por medio de la $t-student$ es posible plantear un intervalo de confianza. Por cuestiones estándar, se estipulará $\\alpha = 0.05$. Definiendo $IC_{0.95} = (T_n - t_{\\frac{0.05}{2}, 759}\\cdot\\sqrt{v_J}, T_n + t_{\\frac{0.05}{2}, 759}\\cdot\\sqrt{v_J})$. \n"
   ]
  },
  {
   "cell_type": "code",
   "execution_count": 46,
   "id": "b278518c",
   "metadata": {},
   "outputs": [
    {
     "name": "stdout",
     "output_type": "stream",
     "text": [
      "El intervalo de confianza es: (-340.43021186464784, 2069.882843442963) \n"
     ]
    }
   ],
   "source": [
    "t_critic = scipy.stats.t.ppf(0.05/2, df.shape[0]-1)\n",
    "print(f\"El intervalo de confianza es: ({df[1].mean()*n - (n-1)*df_1['t_n-1,i'].mean() + t_critic*df_1['j_n,i'].std()}, {df[1].mean()*n - (n-1)*df_1['t_n-1,i'].mean()- t_critic*df_1['j_n,i'].std()}) \")"
   ]
  },
  {
   "cell_type": "markdown",
   "id": "05793bec",
   "metadata": {},
   "source": [
    "Así culmina el ejercicio obteniendo una estimación por intervalo. "
   ]
  }
 ],
 "metadata": {
  "kernelspec": {
   "display_name": "Python 3 (ipykernel)",
   "language": "python",
   "name": "python3"
  },
  "language_info": {
   "codemirror_mode": {
    "name": "ipython",
    "version": 3
   },
   "file_extension": ".py",
   "mimetype": "text/x-python",
   "name": "python",
   "nbconvert_exporter": "python",
   "pygments_lexer": "ipython3",
   "version": "3.9.7"
  }
 },
 "nbformat": 4,
 "nbformat_minor": 5
}
